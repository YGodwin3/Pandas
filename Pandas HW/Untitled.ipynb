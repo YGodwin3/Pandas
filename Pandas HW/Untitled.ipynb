{
 "cells": [
  {
   "cell_type": "code",
   "execution_count": null,
   "metadata": {},
   "outputs": [],
   "source": [
    "import pandas as pd\n",
    "import numpy as np"
   ]
  },
  {
   "cell_type": "code",
   "execution_count": null,
   "metadata": {},
   "outputs": [],
   "source": [
    "import pandas as pd\n",
    "import numpy as np\n",
    "\n",
    "# File to Load (Remember to Change These)\n",
    "file_to_load = \"Resources/purchase_data.csv\"\n",
    "\n",
    "# Read Purchasing File and store into Pandas data frame\n",
    "purchase_data = pd.read_csv(file_to_load)\n",
    "purchase_data.head()"
   ]
  },
  {
   "cell_type": "code",
   "execution_count": null,
   "metadata": {},
   "outputs": [],
   "source": [
    "Total_player= len(purchase_data[\"SN\"].unique())\n",
    "Total_player"
   ]
  },
  {
   "cell_type": "code",
   "execution_count": null,
   "metadata": {},
   "outputs": [],
   "source": [
    "Total_playerdf=pd.DataFrame({\"Total count\":[Total_player]})\n",
    "Total_playerdf"
   ]
  },
  {
   "cell_type": "code",
   "execution_count": null,
   "metadata": {},
   "outputs": [],
   "source": [
    "number0f_item=len(purchase_data[\"Item Name\"].unique())\n",
    "avg_Price= purchase_data[\"Price\"].mean()\n",
    "Numberof_Purchases= len(purchase_data[\"Item Name\"])\n",
    "Total_rev=purchase_data[\"Price\"].sum()\n",
    "\n",
    "Purchase_analysis="
   ]
  },
  {
   "cell_type": "code",
   "execution_count": null,
   "metadata": {},
   "outputs": [],
   "source": [
    "Purchase_analysis= pd.DataFrame({\"Number of Unique Items\":[number0f_item], \"Average Price\":[avg_Price],\n",
    "                                 \"Number of Purchases\":[Numberof_Purchases],\"Total Revenue\":[Total_rev]})\n",
    "\n",
    "Purchase_analysis[\"Number of Purchases\"]=Purchase_analysis[\"Number of Purchases\"].map(\"${:}\".format)\n",
    "Purchase_analysis[\"Average Price\"]=Purchase_analysis[\"Average Price\"].map(\"${:.2f}\".format)\n",
    "Purchase_analysis[\"Total Revenue\"]= Purchase_analysis[\"Total Revenue\"].map(\"${:}\".format)"
   ]
  },
  {
   "cell_type": "code",
   "execution_count": null,
   "metadata": {},
   "outputs": [],
   "source": [
    "male= purchase_data[\"Gender\"].value_counts()[\"Male\"]\n",
    "male"
   ]
  },
  {
   "cell_type": "code",
   "execution_count": null,
   "metadata": {},
   "outputs": [],
   "source": [
    "female=purchase_data[\"Gender\"].value_counts()[\"Female\"]\n",
    "female"
   ]
  },
  {
   "cell_type": "code",
   "execution_count": null,
   "metadata": {},
   "outputs": [],
   "source": [
    "non=purchase_data[\"Gender\"].value_counts()[\"Other / Non-Disclosed\"]\n",
    "non"
   ]
  },
  {
   "cell_type": "code",
   "execution_count": null,
   "metadata": {},
   "outputs": [],
   "source": [
    "Total_Gen=purchase_data[\"Gender\"].count()\n",
    "Total_Gen\n",
    "\n",
    "Male_per = (male/Total_Gen)*100\n",
    "Female_per=(female/Total_Gen)*100\n",
    "Non_per=(non/Total_Gen)*100\n",
    "\n",
    "Gender_analysis=pd.DataFrame({\"\":[\"Male\",\"Female\",\"Other/Non-Disclosed\"],\n",
    "                             \"Total Count\":[male,female,non],\n",
    "                             \"Percentage of Players\":[Male_per,Female_per,Non_per]})\n",
    "\n",
    "Gender_analysis[\"Percentage of players\"]=Gender_analysis[\"Percentage of players\"].map(\"{:.2f}%\".format)\n",
    "\n",
    "Gender_analysis"
   ]
  }
 ],
 "metadata": {
  "kernelspec": {
   "display_name": "Python 3",
   "language": "python",
   "name": "python3"
  },
  "language_info": {
   "codemirror_mode": {
    "name": "ipython",
    "version": 3
   },
   "file_extension": ".py",
   "mimetype": "text/x-python",
   "name": "python",
   "nbconvert_exporter": "python",
   "pygments_lexer": "ipython3",
   "version": "3.7.1"
  }
 },
 "nbformat": 4,
 "nbformat_minor": 2
}
